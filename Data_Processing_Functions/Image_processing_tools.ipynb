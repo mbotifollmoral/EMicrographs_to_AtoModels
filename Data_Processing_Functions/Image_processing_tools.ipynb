{
 "cells": [
  {
   "cell_type": "code",
   "execution_count": null,
   "id": "weighted-antarctica",
   "metadata": {},
   "outputs": [],
   "source": [
    "#required modules\n",
    "\n",
    "import numpy as np\n",
    "import matplotlib.pyplot as plt\n",
    "import hyperspy.api as hs\n",
    "import skimage\n",
    "from skimage import filters\n",
    "from skimage.morphology import disk\n",
    "from skimage.filters import threshold_mean, threshold_isodata, threshold_minimum, threshold_otsu, threshold_triangle, threshold_li\n",
    "#if you need to implement something about image processing, first check if there is already a function available in\n",
    "#the \n"
   ]
  },
  {
   "cell_type": "code",
   "execution_count": null,
   "id": "nasty-michigan",
   "metadata": {},
   "outputs": [],
   "source": [
    "#create an image, which is just a 2d matrix.\n",
    "image_size=1024\n",
    "image=np.zeros((image_size, image_size))\n",
    "image=np.random.random((image_size, image_size))\n",
    "\n",
    "#~in case we want an all zeros for backgorund, just use the 0.\n",
    "#if we want a random values disributed all along, use random and the type of distirbution we want\n",
    "#although it is better to add it at the end of the process to be able to control better the levels of noise with respect\n",
    "#the actual signal of the peaks, you can even use the following to directly apply the poissonian noise to the default image:\n",
    "image_poisson=np.random.poisson((image_size, image_size))\n"
   ]
  },
  {
   "cell_type": "code",
   "execution_count": null,
   "id": "norman-width",
   "metadata": {},
   "outputs": [],
   "source": [
    "#to plot the image with pyplot\n",
    "plt.imshow(image)\n",
    "plt.show()"
   ]
  },
  {
   "cell_type": "code",
   "execution_count": null,
   "id": "exclusive-killing",
   "metadata": {},
   "outputs": [],
   "source": [
    "#important to know how to index the image:\n",
    "#a 2D numpy array needs two indices to be referenced, the values of which lay between 0 and image_size-1, being 0 the \n",
    "#smallest possible and image_size-1 the largest\n",
    "index_y=1\n",
    "index_x=1\n",
    "index_y1=1\n",
    "index_y2=30\n",
    "index_x1=1\n",
    "index_x2=30\n",
    "certain_image_element=image[index_y, index_x]\n",
    "#always the first index that is presented between [] is the y index, vertical, direction, image rows,\n",
    "#while the second is referencing to x, horizontal directions, or columns in the image\n",
    "#the index image[0,0] goes to the top left pixel, and the image[image_size-1, image_size-1], is the bottom right one\n",
    "\n",
    "top_left_pixel=image[0,0]\n",
    "bottom_right_pixel=image[image_size-1, image_size-1]\n",
    "#crop the image\n",
    "cropped_image=image[index_y1:index_y2, index_x1:index_x2]\n",
    "\n"
   ]
  },
  {
   "cell_type": "code",
   "execution_count": null,
   "id": "latest-algorithm",
   "metadata": {},
   "outputs": [],
   "source": [
    "#in the case of dealing with images and their FFT, we need to have them properly calibrated\n",
    "#the calibration can be done via pixel size or by FOV and total pixels (which is eventually defining the pixel size)\n",
    "FOV=100  #nm\n",
    "pixel_size=FOV/image_size\n",
    "#then every image needs to have a label on which calibration it has:\n",
    "#to do so, we use the hyperspy package as it has all the functionalities we need \n",
    "\n",
    "hyperspy_2D_signal=hs.signals.Signal2D(image)\n",
    "#we modify the metadata where the calibration is stored\n",
    "hyperspy_2D_signal.axes_manager.set_signal_dimension(2)\n",
    "hyperspy_2D_signal.axes_manager[0].name='x'\n",
    "hyperspy_2D_signal.axes_manager[1].name='y'\n",
    "hyperspy_2D_signal.axes_manager['x'].scale=pixel_size\n",
    "hyperspy_2D_signal.axes_manager['y'].scale=pixel_size\n",
    "hyperspy_2D_signal.axes_manager['x'].units='nm'\n",
    "hyperspy_2D_signal.axes_manager['y'].units='nm'\n",
    "\n",
    "#then we can get our FFT of the iamge calibrated automaticallly by just applying the FFT method to the numpy array, \n",
    "#that by now it is a hyperspy singal\n",
    "fft_shifted = hyperspy_2D_signal.fft(shift=True)   #the shift makes that the FFT spots appear in the central region of the image\n",
    "FFT_calibration=fft_shifted.axes_manager['x'].scale\n",
    "#you can go back to numpy array in case you want, from the hyperspy singal:\n",
    "image_again=np.asarray(hyperspy_2D_signal)\n",
    "#then, if you want an image to be calibrated given a FOV/pixel size, you can directly get the calibration of the corresponding FFT\n",
    "#and use these values to build the image based on the distances and reciprocal distnaces obtained by the simulation software\n",
    "# (you have this functions in the kineDP notebook!)\n",
    "\n",
    "\n",
    "#the same can be obtained with numpy arrays, but we lose the calibration information:\n",
    "fft_numpy = np.abs(np.fft.fftshift(np.log(np.fft.fft2(image))))"
   ]
  },
  {
   "cell_type": "code",
   "execution_count": null,
   "id": "spanish-framing",
   "metadata": {},
   "outputs": [],
   "source": [
    "#one very intersting property of numpy arrays is the broadcasting and the bolean or mask indexing\n",
    "#broadcast allows for doing some operations that you would expect to create a loop but just by using single operations\n",
    "#e.g. \n",
    "vector=np.array([1,2,3,4,5,6,7,8,9,10])\n",
    "#I want to create a vector whose number is vector+1. Two ways of doing so:\n",
    "#1) very slow:\n",
    "vector1=[]\n",
    "for value in vector:\n",
    "    new_val=value+1\n",
    "    vector1.append(new_val)\n",
    "vector1=np.asarray(vector1)\n"
   ]
  },
  {
   "cell_type": "code",
   "execution_count": null,
   "id": "typical-cricket",
   "metadata": {},
   "outputs": [],
   "source": [
    "#2) using the broadcasting property: faster and easier:\n",
    "vector1=vector+1 \n",
    "#it will still consider properly the dimensions of the vector and matrixes and operate accordingly\n"
   ]
  },
  {
   "cell_type": "code",
   "execution_count": null,
   "id": "optimum-hammer",
   "metadata": {},
   "outputs": [],
   "source": [
    "#masking is even more interesting, as allows for very quick boolean indexing\n",
    "#e.g. from our matrix of zeros (background) and ones (signal), we want to get the coordiantes of the ones. Two ways:\n",
    "#1) very slow, looping throught the pixels:\n",
    "indexes=[]\n",
    "for index_row, row in enumerate(image):\n",
    "    for index_col, column in enumerate(row):\n",
    "        if column==1:\n",
    "            indexes.append([index_row,index_col])"
   ]
  },
  {
   "cell_type": "code",
   "execution_count": null,
   "id": "early-criticism",
   "metadata": {},
   "outputs": [],
   "source": [
    "#2 using the boolean masking of numpy arrays:\n",
    "indexes=image==1\n",
    "#this will not give you the list of indexes, but a matrix with True where image==1 and False otherwise. Then, pixelwise multiplications\n",
    "#will only affect these values if you want only to interact with them\n",
    "#this can be a really effective way of applying a threshold:\n",
    "# take only the pixels of the image whose FFT is more intense than 0.5 --> only the spots\n",
    "FFT_threshold=0.5\n",
    "image[fft_numpy>FFT_threshold]=1\n",
    "image[fft_numpy<=FFT_threshold]=0\n"
   ]
  },
  {
   "cell_type": "code",
   "execution_count": null,
   "id": "continuous-luxury",
   "metadata": {},
   "outputs": [],
   "source": [
    "#3 or even with where:\n",
    "indexes=np.where(image==1)\n",
    "\n",
    "#conclusion: think twice before doing a loop, because they are fast in c but awful in python!!!"
   ]
  },
  {
   "cell_type": "code",
   "execution_count": null,
   "id": "earned-award",
   "metadata": {},
   "outputs": [],
   "source": [
    "#when we have our image, it will be important to have a dataset that is comparable with itself\n",
    "#this means all the images have values of intensity between 0 and 1.\n",
    "#to do so, just normalise them:\n",
    "\n",
    "\n",
    "def normalize_image(image):\n",
    "    \"\"\"\n",
    "    Normalizes the provided image from 0 to 1\n",
    "\n",
    "    Parameters\n",
    "    ----------\n",
    "    image : np.array object\n",
    "        Image to be normalized\n",
    "\n",
    "    Returns\n",
    "    -------\n",
    "    image : np.array object\n",
    "        Image normalized from 0 to 1\n",
    "    \"\"\"\n",
    "    return (image - np.amin(image)) / (np.amax(image) - np.amin(image))\n",
    "\n",
    "image_norm=normalize_image(image)"
   ]
  },
  {
   "cell_type": "code",
   "execution_count": null,
   "id": "crude-quarter",
   "metadata": {},
   "outputs": [],
   "source": [
    "#to plot the image with pyplot\n",
    "plt.imshow(image_norm)\n",
    "plt.show()\n",
    "#and visualise the histogram. The histogram is a very nice and quick way of characterising the FFT, as all the FFTs of \n",
    "#atomically resolved image have more or less the same shape of histogram:\n",
    "plt.hist(image_norm.ravel(),256,[np.min(np.array([image_norm])),np.max(np.array([image_norm]))])\n",
    "plt.show()"
   ]
  },
  {
   "cell_type": "code",
   "execution_count": null,
   "id": "royal-virus",
   "metadata": {},
   "outputs": [],
   "source": [
    "#plot the images with different colours:\n",
    "\n",
    "fig, axes = plt.subplots(ncols=2, figsize=(8, 4))\n",
    "# Viridis is assigned by default even if the cmap argument is not specified\n",
    "im_handle = axes[0].imshow(image_norm)\n",
    "axes[0].set_title('cmap=\"viridis\"')\n",
    "# Adding a colorbar:\n",
    "cbar = plt.colorbar(im_handle, ax=axes[0], orientation='vertical',\n",
    "fraction=0.046, pad=0.04, use_gridspec=True)\n",
    "\n",
    "im_handle = axes[1].imshow(image_norm, cmap='jet')\n",
    "axes[1].set_title('cmap=\"jet\"')\n",
    "# Adding a colorbar:\n",
    "cbar = plt.colorbar(im_handle, ax=axes[1], orientation='vertical',\n",
    "fraction=0.046, pad=0.04, use_gridspec=True)\n",
    "fig.tight_layout()"
   ]
  },
  {
   "cell_type": "code",
   "execution_count": null,
   "id": "british-budget",
   "metadata": {},
   "outputs": [],
   "source": [
    "# image filters:\n",
    "cropped_image = image[:128, :128]\n",
    "\n",
    "plt.imshow(cropped_image)\n",
    "plt.title('Original image')\n",
    "plt.show()\n",
    "# Local mean filter\n",
    "loc_mean = filters.rank.mean(cropped_image, disk(4))\n",
    "\n",
    "# Median filter:\n",
    "median_filtered = filters.median(cropped_image, disk(5))\n",
    "\n",
    "# Gaussian Filter\n",
    "gaussian_filtered = filters.gaussian(cropped_image, sigma=1.875)\n",
    "\n",
    "# Bilateral mean\n",
    "noisy_image = skimage.img_as_ubyte(cropped_image)\n",
    "bilat_filtered = filters.rank.mean_bilateral(noisy_image.astype(np.uint16), disk(10), s0=5, s1=5)\n",
    "\n",
    "# Self-tuned Wiener\n",
    "disk_size = int(1)\n",
    "psf = np.ones((disk_size, disk_size)) / disk_size**2\n",
    "self_tuned, _ = skimage.restoration.unsupervised_wiener(cropped_image, psf)\n",
    "\n",
    "# Wiener deconvolution\n",
    "disk_size = int(10)\n",
    "psf = np.ones((disk_size, disk_size)) / disk_size**2\n",
    "wiener_filtered = skimage.restoration.wiener(cropped_image, psf, 50)\n",
    "\n",
    "# Visualizing results here:\n",
    "fig, axes = plt.subplots(ncols=3, nrows=2, figsize=(12, 8),\n",
    "                         sharex=True, sharey=True)\n",
    "for axis, img, title in zip(axes.flat, \n",
    "                            [loc_mean, median_filtered, gaussian_filtered, \n",
    "                             self_tuned, bilat_filtered, wiener_filtered],\n",
    "                            ['Local mean', 'Median', 'Gaussian', \n",
    "                             'Self-tuned Restoration', 'Mean Bilatereral', 'Wiener']):\n",
    "    axis.imshow(img, cmap='gray')\n",
    "    axis.set_title(title)\n",
    "fig.suptitle('Filters', fontsize=18, y=1.03)\n",
    "fig.tight_layout()"
   ]
  },
  {
   "cell_type": "code",
   "execution_count": null,
   "id": "blond-russia",
   "metadata": {},
   "outputs": [],
   "source": [
    "#edge detection:\n",
    "#probably not being useful in our particular case, but just in case\n",
    "fig, axes = plt.subplots(figsize=(8, 8), nrows=2, ncols=2, \n",
    "                         sharex=True, sharey=True)\n",
    "for axis, filt_alg, title in zip(axes.flat, \n",
    "                                 [filters.sobel, filters.scharr,\n",
    "                                  filters.prewitt, filters.roberts],\n",
    "                                 ['Sobel', 'Scharr', 'Prewitt', 'Roberts']):\n",
    "    axis.imshow(filt_alg(cropped_image), cmap='gray')\n",
    "    axis.set_title(title, fontsize=16)\n",
    "fig.tight_layout()"
   ]
  },
  {
   "cell_type": "code",
   "execution_count": null,
   "id": "olympic-cooper",
   "metadata": {},
   "outputs": [],
   "source": [
    "#Final comment: if you find any function that is implemented in one package, and not in another, use it and then you must \n",
    "#about only care about data type conversions, which for the main packages, skimage, cv2, hyprespy and numpy they are \n",
    "#always supported!"
   ]
  }
 ],
 "metadata": {
  "kernelspec": {
   "display_name": "Python 3",
   "language": "python",
   "name": "python3"
  },
  "language_info": {
   "codemirror_mode": {
    "name": "ipython",
    "version": 3
   },
   "file_extension": ".py",
   "mimetype": "text/x-python",
   "name": "python",
   "nbconvert_exporter": "python",
   "pygments_lexer": "ipython3",
   "version": "3.7.9"
  }
 },
 "nbformat": 4,
 "nbformat_minor": 5
}
